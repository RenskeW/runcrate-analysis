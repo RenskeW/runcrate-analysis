{
 "cells": [
  {
   "cell_type": "code",
   "execution_count": 2,
   "metadata": {},
   "outputs": [],
   "source": [
    "import os\n",
    "import rdflib\n",
    "from pathlib import Path\n",
    "import pandas as pd"
   ]
  },
  {
   "cell_type": "code",
   "execution_count": 3,
   "metadata": {},
   "outputs": [],
   "source": [
    "cwd = Path(os.getcwd())\n",
    "queries_dir = cwd / 'sparql_queries'"
   ]
  },
  {
   "attachments": {},
   "cell_type": "markdown",
   "metadata": {},
   "source": [
    "## Functions"
   ]
  },
  {
   "cell_type": "code",
   "execution_count": 18,
   "metadata": {},
   "outputs": [],
   "source": [
    "def run_query(rdf_file, query_file):\n",
    "    \"\"\"\n",
    "    file = RDF file; query_file = path to sparql query file.\n",
    "    \"\"\"\n",
    "    g = rdflib.Graph()\n",
    "    g.parse(rdf_file)\n",
    "    with open(query_file, 'r')  as f:\n",
    "        query = f.read()\n",
    "        \n",
    "    print(f\"SPARQL QUERY IS:\\n{query}\")\n",
    "    \n",
    "    qres = g.query(query)\n",
    "    \n",
    "    results = pd.DataFrame(qres.bindings).applymap(str).rename(columns=str)\n",
    "\n",
    "    print(\"RESPONSE IS:\\n\")\n",
    "\n",
    "    display(results)\n",
    "    \n",
    "    return results"
   ]
  },
  {
   "cell_type": "code",
   "execution_count": 23,
   "metadata": {},
   "outputs": [
    {
     "name": "stdout",
     "output_type": "stream",
     "text": [
      "SPARQL QUERY IS:\n",
      "PREFIX s: <http://schema.org/>\n",
      "PREFIX orcid: <https://orcid.org/>\n",
      "\n",
      "SELECT ?orcid ?name\n",
      "WHERE {\n",
      "    ?orcid a s:Person .\n",
      "    ?orcid s:name ?name .\n",
      "    ?action s:agent ?orcid .\n",
      "}\n",
      "RESPONSE IS:\n",
      "\n"
     ]
    },
    {
     "data": {
      "text/html": [
       "<div>\n",
       "<style scoped>\n",
       "    .dataframe tbody tr th:only-of-type {\n",
       "        vertical-align: middle;\n",
       "    }\n",
       "\n",
       "    .dataframe tbody tr th {\n",
       "        vertical-align: top;\n",
       "    }\n",
       "\n",
       "    .dataframe thead th {\n",
       "        text-align: right;\n",
       "    }\n",
       "</style>\n",
       "<table border=\"1\" class=\"dataframe\">\n",
       "  <thead>\n",
       "    <tr style=\"text-align: right;\">\n",
       "      <th></th>\n",
       "      <th>name</th>\n",
       "      <th>orcid</th>\n",
       "    </tr>\n",
       "  </thead>\n",
       "  <tbody>\n",
       "    <tr>\n",
       "      <th>0</th>\n",
       "      <td>Renske de Wit</td>\n",
       "      <td>https://orcid.org/0000-0003-0902-0086</td>\n",
       "    </tr>\n",
       "  </tbody>\n",
       "</table>\n",
       "</div>"
      ],
      "text/plain": [
       "            name                                  orcid\n",
       "0  Renske de Wit  https://orcid.org/0000-0003-0902-0086"
      ]
     },
     "metadata": {},
     "output_type": "display_data"
    }
   ],
   "source": [
    "# Human agent\n",
    "provenance_file = cwd.parent / 'scenario1' / 'rocrate_v2' / 'ro-crate-metadata.json'\n",
    "query_file = queries_dir / 'human_agent.sparql'\n",
    "response = run_query(provenance_file, query_file)"
   ]
  },
  {
   "cell_type": "code",
   "execution_count": null,
   "metadata": {},
   "outputs": [],
   "source": [
    "# "
   ]
  }
 ],
 "metadata": {
  "kernelspec": {
   "display_name": "Python 3",
   "language": "python",
   "name": "python3"
  },
  "language_info": {
   "codemirror_mode": {
    "name": "ipython",
    "version": 3
   },
   "file_extension": ".py",
   "mimetype": "text/x-python",
   "name": "python",
   "nbconvert_exporter": "python",
   "pygments_lexer": "ipython3",
   "version": "3.10.4"
  },
  "orig_nbformat": 4
 },
 "nbformat": 4,
 "nbformat_minor": 2
}
